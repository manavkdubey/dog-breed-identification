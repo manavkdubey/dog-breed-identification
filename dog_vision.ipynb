{
  "nbformat": 4,
  "nbformat_minor": 0,
  "metadata": {
    "colab": {
      "provenance": [],
      "authorship_tag": "ABX9TyOySgOwtnICThgfZzVbpkP6",
      "include_colab_link": true
    },
    "kernelspec": {
      "name": "python3",
      "display_name": "Python 3"
    },
    "language_info": {
      "name": "python"
    }
  },
  "cells": [
    {
      "cell_type": "markdown",
      "metadata": {
        "id": "view-in-github",
        "colab_type": "text"
      },
      "source": [
        "<a href=\"https://colab.research.google.com/github/manavkdubey/dog-breed-identification/blob/main/dog_vision.ipynb\" target=\"_parent\"><img src=\"https://colab.research.google.com/assets/colab-badge.svg\" alt=\"Open In Colab\"/></a>"
      ]
    },
    {
      "cell_type": "code",
      "execution_count": null,
      "metadata": {
        "id": "ehRofrN6nRvG"
      },
      "outputs": [],
      "source": [
        "## This is a colab notebook"
      ]
    },
    {
      "cell_type": "markdown",
      "source": [
        "# This is a google colab notebook for dog breed identification"
      ],
      "metadata": {
        "id": "8dPGutKfswhT"
      }
    },
    {
      "cell_type": "code",
      "source": [],
      "metadata": {
        "id": "QqAJ5zOpnZv1"
      },
      "execution_count": 2,
      "outputs": []
    }
  ]
}